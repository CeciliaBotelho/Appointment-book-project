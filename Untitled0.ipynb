{
  "nbformat": 4,
  "nbformat_minor": 0,
  "metadata": {
    "colab": {
      "provenance": [],
      "mount_file_id": "1iUuqzoZE533kbmucRbUgux13weSID-HL",
      "authorship_tag": "ABX9TyOwNeX2sST6tpOgc44Nl110",
      "include_colab_link": true
    },
    "kernelspec": {
      "name": "python3",
      "display_name": "Python 3"
    },
    "language_info": {
      "name": "python"
    }
  },
  "cells": [
    {
      "cell_type": "markdown",
      "metadata": {
        "id": "view-in-github",
        "colab_type": "text"
      },
      "source": [
        "<a href=\"https://colab.research.google.com/github/CeciliaBotelho/AppointmentBookProject/blob/main/Untitled0.ipynb\" target=\"_parent\"><img src=\"https://colab.research.google.com/assets/colab-badge.svg\" alt=\"Open In Colab\"/></a>"
      ]
    },
    {
      "cell_type": "markdown",
      "source": [
        "#Teste MaxiQuim\n",
        "#Cecilia Botelho\n"
      ],
      "metadata": {
        "id": "zKEbFh_Kfixs"
      }
    },
    {
      "cell_type": "markdown",
      "source": [
        "## Importar bibliotecas"
      ],
      "metadata": {
        "id": "tBYgvejf3C46"
      }
    },
    {
      "cell_type": "code",
      "source": [
        "import pandas as pd"
      ],
      "metadata": {
        "id": "E9hJM8eo08lJ"
      },
      "execution_count": null,
      "outputs": []
    },
    {
      "cell_type": "markdown",
      "source": [
        "## Download CSV"
      ],
      "metadata": {
        "id": "zWtAchse3YWY"
      }
    },
    {
      "cell_type": "code",
      "source": [
        "!wget -O \"dataset.csv\" \"https://www.gov.br/anp/pt-br/centrais-de-conteudo/dados-abertos/arquivos/ppgn-el/producao-petroleo-m3-1997-2022.csv\""
      ],
      "metadata": {
        "colab": {
          "base_uri": "https://localhost:8080/"
        },
        "id": "KRMXUUzz3CZd",
        "outputId": "17706fb7-435c-49d0-fc4c-d7beb8254dfe"
      },
      "execution_count": null,
      "outputs": [
        {
          "output_type": "stream",
          "name": "stdout",
          "text": [
            "--2023-02-06 11:45:43--  https://www.gov.br/anp/pt-br/centrais-de-conteudo/dados-abertos/arquivos/ppgn-el/producao-petroleo-m3-1997-2022.csv\n",
            "Resolving www.gov.br (www.gov.br)... 161.148.164.31\n",
            "Connecting to www.gov.br (www.gov.br)|161.148.164.31|:443... connected.\n",
            "HTTP request sent, awaiting response... 200 OK\n",
            "Length: 401365 (392K) [text/csv]\n",
            "Saving to: ‘dataset.csv’\n",
            "\n",
            "dataset.csv         100%[===================>] 391.96K   117KB/s    in 3.3s    \n",
            "\n",
            "2023-02-06 11:45:48 (117 KB/s) - ‘dataset.csv’ saved [401365/401365]\n",
            "\n"
          ]
        }
      ]
    },
    {
      "cell_type": "markdown",
      "source": [
        "## Importar CSV"
      ],
      "metadata": {
        "id": "X2O8Op4k3G4y"
      }
    },
    {
      "cell_type": "code",
      "source": [
        "df = pd.read_csv('dataset.csv', sep=';')\n",
        "\n"
      ],
      "metadata": {
        "id": "nwdyd4ya14yE"
      },
      "execution_count": null,
      "outputs": []
    },
    {
      "cell_type": "markdown",
      "source": [
        "Nessa linha li o dataset, solicitado e guardei dentro de uma variavél chamada df. O \";\" indica que cada valor é separado por ponto e vírgula. Retornando um dataframe, que é uma estrutura de dados tabular.\n",
        "\n",
        "\n",
        "---\n",
        "\n"
      ],
      "metadata": {
        "id": "LgWwEhZ1gOTL"
      }
    },
    {
      "cell_type": "markdown",
      "source": [
        "##Filtrando por ano\n"
      ],
      "metadata": {
        "id": "0r2gNm6wKt7z"
      }
    },
    {
      "cell_type": "code",
      "source": [
        "df_2021 = df[df['ANO'] == 2021]\n"
      ],
      "metadata": {
        "id": "uaCRXyJR7cXP"
      },
      "execution_count": null,
      "outputs": []
    },
    {
      "cell_type": "markdown",
      "source": [
        "Ja nessa linha filtrei o dataset para aparecer so as informações do ano de 2021"
      ],
      "metadata": {
        "id": "_8FO2WXhinnr"
      }
    },
    {
      "cell_type": "markdown",
      "source": [
        "##Somando os dados da produção de 2021\n"
      ],
      "metadata": {
        "id": "YFdz6mCweXhZ"
      }
    },
    {
      "cell_type": "code",
      "source": [
        "coluna = pd.to_numeric(df_2021['PRODUÇÃO'].str.replace(',', '.'), errors='raise')\n",
        "soma = coluna.sum()\n"
      ],
      "metadata": {
        "id": "iLq6RyQ_GU2r"
      },
      "execution_count": null,
      "outputs": []
    },
    {
      "cell_type": "markdown",
      "source": [
        "Atribuir a coluna o resultado da soma de produção de 2021 por m^3(os dados ja estavam em m^3)\n",
        "\n",
        "Converti para tipo numerico, com pd.to_numeric.\n",
        "\n",
        "Também converti as virgulas para pontos, com str.replace para ter certeza que os dados vão ser interpretados como numeros.\n"
      ],
      "metadata": {
        "id": "reo5cfXxibrG"
      }
    },
    {
      "cell_type": "markdown",
      "source": [
        "##Printando a resposta da soma da produção"
      ],
      "metadata": {
        "id": "tZo_0eezfPKR"
      }
    },
    {
      "cell_type": "code",
      "source": [
        "print(\"A soma da coluna '{}' é {}\".format(coluna.name, soma))"
      ],
      "metadata": {
        "colab": {
          "base_uri": "https://localhost:8080/"
        },
        "id": "iy-bO1a7fD1I",
        "outputId": "3d69b2c2-c9ae-4eab-b414-67190153a54f"
      },
      "execution_count": null,
      "outputs": [
        {
          "output_type": "stream",
          "name": "stdout",
          "text": [
            "A soma da coluna 'PRODUÇÃO' é 168585220.83203\n"
          ]
        }
      ]
    }
  ]
}